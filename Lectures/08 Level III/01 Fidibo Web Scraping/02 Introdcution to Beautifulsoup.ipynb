{
 "cells": [
  {
   "cell_type": "code",
   "execution_count": 17,
   "metadata": {},
   "outputs": [
    {
     "data": {
      "text/plain": [
       "'<!DOCTYPE html><html lang=\"en\"><head><meta charset=\"UTF-8\"><meta name=\"viewport\" content=\"width=device-width\"><link href=\"/cdn-cgi/assets/css/static-pages-2.6.0.css\" rel=\"stylesheet\"><link rel=\"icon\" type=\"image/x-icon\" href=\"//DOMAIN/favicon.ico\"><title></title></head><body><section class=\"error-section error-section--waiting error-section--ltr error-section--hide\" id=\"en\"><div class=\"container\"><div class=\"error-section__wrapper error-section__wrapper--waiting\"><div class=\"error-section__information\"><h1 class=\"error-section__title\"></h1><h2 class=\"error-section__subtitle error-section__subtitle--waiting\">Transferring to the website...</h2></div></div></div></section><section class=\"error-section error-section--waiting error-section--hide\" id=\"fa\"><div class=\"container\"><div class=\"error-section__wrapper error-section__wrapper--waiting\"><div class=\"error-section__information\"><h1 class=\"error-section__title\"></h1><h2 class=\"error-section__subtitle error-section__subtitle--waiting\"> Ø¯Ø± ïº£ïº\\x8eÙ\\x84 Ø§ï»§ïº\\x98ï»\\x98ïº\\x8eÙ\\x84 ïº\\x91ï»ª ïº³ïº\\x8eï¯¾ïº\\x96 ï»£ï»®Ø±Ø¯ ï»§ï»\\x88ïº® ï»«ïº´ïº\\x98ï¯¿ïºª...</h2></div></div></div></section><script>var _this = this;\\n\\nvar showPage = function showPage() {\\n  var errorPage;\\n  var headTitleElement = document.getElementsByTagName(\"title\");\\n\\n  if (isTehranTimezone()) {\\n    errorPage = document.getElementById(\"fa\");\\n  } else {\\n    errorPage = document.getElementById(\"en\");\\n  }\\n\\n  var pageTitle = errorPage.getElementsByClassName(\"error-section__title\")[0]\\n    .textContent;\\n  headTitleElement[0].innerHTML = pageTitle;\\n  errorPage.classList.remove(\"error-section--hide\");\\n};\\n\\nvar isTehranTimezone = function isTehranTimezone() {\\n  try {\\n    var intlName = window.Intl.DateTimeFormat().resolvedOptions().timeZone;\\n    if (intlName) {\\n      return intlName.toLowerCase().includes(\\'tehran\\');\\n    }\\n  } catch (e) {}\\n\\n  var now = new Date();\\n  return now.toString().toLowerCase().includes(\\'iran\\');\\n};\\n\\nvar getRandomInt = function getRandomInt(min, max) {\\n  return Math.floor(Math.random() * Math.floor(max - min)) + min;\\n};\\n\\nshowPage();</script><script type=\"text/javascript\">var _0x4541 = [\\'amd\\', \\'function\\', eval(\"[!+[]+!+[]+!+[]+!+[]]+[]+[!+[]+!+[]+!+[]+!+[]+!+[]+!+[]+!+[]+!+[]]+[]+[!+[]+!+[]+!+[]+!+[]+!+[]]+[]+[!+[]+!+[]+!+[]+!+[]+!+[]+!+[]+!+[]]+[]+([][\\'entries\\']()+\\'\\')[2]+[!+[]+!+[]+!+[]+!+[]]+[]+[!+[]+!+[]+!+[]+!+[]+!+[]]+[]+[!+[]+!+[]+!+[]+!+[]+!+[]+!+[]]+[]+([][[]]+[])[!+[]+!+[]]+[!+[]+!+[]+!+[]+!+[]+!+[]+!+[]+!+[]]+[]+([][\\'fill\\']+\\'\\')[3]+[!+[]+!+[]+!+[]+!+[]+!+[]+!+[]+!+[]+!+[]]+[]+[!+[]+!+[]+!+[]]+[]+[+[]]+[]+[!+[]+!+[]+!+[]+!+[]+!+[]+!+[]+!+[]+!+[]]+[]+[!+[]+!+[]+!+[]+!+[]+!+[]+!+[]]+[]+[+[]]+[]+(![]+[])[+[]]+[!+[]+!+[]+!+[]]+[]+[+!+[]]+[]+[!+[]+!+[]+!+[]+!+[]]+[]+[!+[]+!+[]+!+[]+!+[]+!+[]+!+[]+!+[]+!+[]]+[]+[!+[]+!+[]]+[]+[!+[]+!+[]+!+[]+!+[]+!+[]+!+[]+!+[]+!+[]]+[]+[!+[]+!+[]+!+[]]+[]+(![]+[])[+[]]+[+!+[]]+[]+[!+[]+!+[]+!+[]+!+[]+!+[]+!+[]]+[]+[+!+[]]+[]+([][\\'fill\\']+\\'\\')[3]+[!+[]+!+[]+!+[]]+[]+[!+[]+!+[]+!+[]+!+[]+!+[]+!+[]+!+[]+!+[]+!+[]]+[]\"), \\'exports\\', \\'object\\', \\'fromCharCode\\', \\'length\\']; (function (_0x37209d, _0x298640) { var _0x3f7362 = function (_0xdf143a) { while (--_0xdf143a) { _0x37209d[\\'push\\'](_0x37209d[\\'shift\\']()); } }; _0x3f7362(++_0x298640); }(_0x4541, 0x127)); var _0x2d84 = function (_0x37209d, _0x298640) { _0x37209d = _0x37209d - 0x0; var _0x3f7362 = _0x4541[_0x37209d]; return _0x3f7362; }; (function (_0x426bd3, _0x367905) { \\'use strict\\'; if (typeof define === _0x2d84(\\'0x0\\') && define[_0x2d84(\\'0x6\\')]) { define([], _0x367905); } else if (typeof exports === _0x2d84(\\'0x3\\')) { module[_0x2d84(\\'0x2\\')] = _0x367905(); } else { _0x426bd3[\\'E\\'] = _0x367905(); } }(this, function () { \\'use strict\\'; return function _0x169cf2(_0x1e4594, _0xaff965) { var _0x3699c8 = \\'\\'; if (!_0xaff965) { _0xaff965 = 0x6; } for (var _0x45a99f = 0x0; _0x45a99f < _0x1e4594[_0x2d84(\\'0x5\\')]; ++_0x45a99f) { _0x3699c8 += String[_0x2d84(\\'0x4\\')](_0xaff965 ^ _0x1e4594[\\'charCodeAt\\'](_0x45a99f)); } return _0x3699c8; }; })); var hash = E(E(_0x2d84(\\'0x1\\')));\\ndocument.addEventListener(\"DOMContentLoaded\", function () {\\n    setTimeout(function () {\\n        document.cookie = \\'__arcsjs=\\' + encodeURIComponent(hash) + \\'; Max-Age=86400; Path=/; Domain=\\' + encodeURIComponent(\\'jobinja.ir\\') + \\'\\';\\n        location.reload();\\n    }, getRandomInt(2000, 3000))\\n});</script></body></html>'"
      ]
     },
     "execution_count": 17,
     "metadata": {},
     "output_type": "execute_result"
    }
   ],
   "source": [
    "import requests\n",
    "url = \"https://jobinja.ir/companies/dornica-4\"\n",
    "headers = {\n",
    "    \"User-Agent\": \"Mozilla/5.0 (Windows NT 10.0; Win64; x64) AppleWebKit/537.36 (KHTML, like Gecko) Chrome/58.0.3029.110 Safari/537.36\"\n",
    "}\n",
    "response = requests.get(url, headers=headers)\n",
    "response.text"
   ]
  },
  {
   "cell_type": "code",
   "execution_count": null,
   "metadata": {},
   "outputs": [],
   "source": [
    "# requests.get\n",
    "[\n",
    "    {\n",
    "        \"page_number\": 1,\n",
    "        \"html_content\": response.text,\n",
    "    },\n",
    "    {\n",
    "        \"page_number\": 2,\n",
    "        \"html_content\": response.text\n",
    "    },\n",
    "    {\n",
    "        \"page_number\": 3,\n",
    "        \"html_content\": response.text\n",
    "    }\n",
    "]"
   ]
  },
  {
   "cell_type": "code",
   "execution_count": null,
   "metadata": {},
   "outputs": [],
   "source": [
    "# requests.get\n",
    "[\n",
    "    {\n",
    "        \"url\": \"https://jobinja.ir/companies/dornica-4\",\n",
    "        \"main_page\": {\n",
    "            \"html_content\": response.text,\n",
    "        },\n",
    "        \"job_page\": {\n",
    "            \"html_content\": response.text,\n",
    "        },\n",
    "        \"about_page\": {\n",
    "            \"html_content\": response.text,\n",
    "        }\n",
    "    },\n",
    "]"
   ]
  },
  {
   "cell_type": "code",
   "execution_count": null,
   "metadata": {},
   "outputs": [],
   "source": [
    "# bs4\n",
    "[\n",
    "    {\n",
    "        \"name\": \"Dornica\",\n",
    "        \"website\": \"https://dornica.com\",\n",
    "        \"size\": \"100-500\",\n",
    "        \"category\": \"Software\",\n",
    "        \"about\": \"Dornica is a software company that develops software for the automotive industry.\",\n",
    "    }\n",
    "]"
   ]
  },
  {
   "cell_type": "code",
   "execution_count": null,
   "metadata": {},
   "outputs": [],
   "source": []
  }
 ],
 "metadata": {
  "kernelspec": {
   "display_name": "py310",
   "language": "python",
   "name": "python3"
  },
  "language_info": {
   "codemirror_mode": {
    "name": "ipython",
    "version": 3
   },
   "file_extension": ".py",
   "mimetype": "text/x-python",
   "name": "python",
   "nbconvert_exporter": "python",
   "pygments_lexer": "ipython3",
   "version": "3.10.12"
  }
 },
 "nbformat": 4,
 "nbformat_minor": 2
}
